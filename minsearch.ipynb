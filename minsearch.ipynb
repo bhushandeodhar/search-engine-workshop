{
 "cells": [
  {
   "cell_type": "code",
   "execution_count": 11,
   "id": "9ad1da02-b2fa-46ae-83c3-43a63c368816",
   "metadata": {},
   "outputs": [],
   "source": [
    "import pandas as pd\n",
    "import requests\n",
    "import numpy as np"
   ]
  },
  {
   "cell_type": "code",
   "execution_count": 12,
   "id": "b7b2fac9-4861-47b1-ae8e-6d8be72a4b18",
   "metadata": {},
   "outputs": [],
   "source": [
    "docs_url= 'https://raw.githubusercontent.com/bhushandeodhar/llm-zoomcamp/refs/heads/main/documents.json'\n",
    "docs_response = requests.get(docs_url)\n",
    "documents_raw = docs_response.json()"
   ]
  },
  {
   "cell_type": "code",
   "execution_count": 13,
   "id": "877be9a2-93e3-4c93-b0e5-b31c03511e3c",
   "metadata": {},
   "outputs": [],
   "source": [
    "documents = []\n",
    "\n",
    "for course_dict in documents_raw:\n",
    "    for doc in course_dict['documents']:\n",
    "        doc['course'] = course_dict['course']\n",
    "        documents.append(doc)"
   ]
  },
  {
   "cell_type": "code",
   "execution_count": 14,
   "id": "7c490281-cafa-4d93-8128-9a00343a9ba7",
   "metadata": {},
   "outputs": [],
   "source": [
    "df = pd.DataFrame(documents, columns=['course','section','question','text'])"
   ]
  },
  {
   "cell_type": "markdown",
   "id": "9830ca2d-ed56-41d3-a9e5-fbaf92bc1f63",
   "metadata": {},
   "source": [
    "Vector Spaces\n",
    "- turn the docs into vector\n",
    "- ter-document matrix:\n",
    "        - rows: documents\n",
    "        - columns - words / token"
   ]
  },
  {
   "cell_type": "code",
   "execution_count": 15,
   "id": "badb2ca7-d81a-4392-b08b-9735fc5464ba",
   "metadata": {},
   "outputs": [],
   "source": [
    "from sklearn.feature_extraction.text import TfidfVectorizer\n",
    "from sklearn.metrics.pairwise import cosine_similarity"
   ]
  },
  {
   "cell_type": "code",
   "execution_count": 16,
   "id": "c49e626d-bf4f-4ab5-ae91-84d570bea9a3",
   "metadata": {},
   "outputs": [],
   "source": [
    "fields = ['section','question','text']"
   ]
  },
  {
   "cell_type": "code",
   "execution_count": 17,
   "id": "e3dd7490-adde-45b1-9439-03ae5546c18f",
   "metadata": {},
   "outputs": [],
   "source": [
    "matrices = {}\n",
    "vectorizers = {}\n",
    "\n",
    "for f in fields:\n",
    "    cv = TfidfVectorizer(stop_words='english', min_df=5) # ignore terms that appear in less than 5 documents\n",
    "    X = cv.fit_transform(df[f]) # Tf-idf-weighted document-term matrix. statistical measure used to evaluate the importance of a word in a document relative to a collection of documents (corpus)\n",
    "    matrices[f] = X\n",
    "    vectorizers[f] = cv"
   ]
  },
  {
   "cell_type": "code",
   "execution_count": 18,
   "id": "4dc8e7d7-711e-4979-822d-b23325238646",
   "metadata": {},
   "outputs": [
    {
     "data": {
      "text/plain": [
       "{'section': <Compressed Sparse Row sparse matrix of dtype 'float64'\n",
       " \twith 3090 stored elements and shape (948, 66)>,\n",
       " 'question': <Compressed Sparse Row sparse matrix of dtype 'float64'\n",
       " \twith 3431 stored elements and shape (948, 291)>,\n",
       " 'text': <Compressed Sparse Row sparse matrix of dtype 'float64'\n",
       " \twith 23808 stored elements and shape (948, 1333)>}"
      ]
     },
     "execution_count": 18,
     "metadata": {},
     "output_type": "execute_result"
    }
   ],
   "source": [
    "matrices"
   ]
  },
  {
   "cell_type": "code",
   "execution_count": 19,
   "id": "91856dc7-157c-430f-b6ca-177c048d17c8",
   "metadata": {},
   "outputs": [
    {
     "data": {
      "text/plain": [
       "{'section': TfidfVectorizer(min_df=5, stop_words='english'),\n",
       " 'question': TfidfVectorizer(min_df=5, stop_words='english'),\n",
       " 'text': TfidfVectorizer(min_df=5, stop_words='english')}"
      ]
     },
     "execution_count": 19,
     "metadata": {},
     "output_type": "execute_result"
    }
   ],
   "source": [
    "vectorizers"
   ]
  },
  {
   "cell_type": "code",
   "execution_count": 20,
   "id": "831fb408-503d-4805-bcd6-bc008f7695cb",
   "metadata": {},
   "outputs": [],
   "source": [
    "score = np.zeros(len(df))\n",
    "query = \"I just discovered the course, is it too late to join?\"\n",
    "\n",
    "boosts = {\n",
    "           'question' : 3\n",
    "         }\n",
    "\n",
    "for f in fields:\n",
    "    q = vectorizers[f].transform([query])\n",
    "    X = matrices[f]\n",
    "    f_score = cosine_similarity(X,q).flatten() # compares document store matrix with query matrix\n",
    "    boost = boosts.get(f, 1.0)\n",
    "    score = score + boost * f_score"
   ]
  },
  {
   "cell_type": "code",
   "execution_count": 21,
   "id": "dfe4ea4a-c0eb-4140-8799-225ca6daf991",
   "metadata": {},
   "outputs": [],
   "source": [
    "#post processing \n",
    "#set scores of the documents as 0 that needs to be filtered out\n",
    "filters = {\n",
    "           'course' : 'data-engineering-zoomcamp'\n",
    "          }\n",
    "for field, value in filters.items():\n",
    "    mask = (df[field] == value).astype(int)\n",
    "    score = score * mask"
   ]
  },
  {
   "cell_type": "code",
   "execution_count": 22,
   "id": "193b59fe-3e4b-4954-9a12-02428a0095b3",
   "metadata": {},
   "outputs": [],
   "source": [
    "idx = np.argsort(score)[-10:]  #gives the index of the sorted documents"
   ]
  },
  {
   "cell_type": "code",
   "execution_count": 23,
   "id": "9ff5fc59-d6dd-4732-9ef6-a60cfc00a8a8",
   "metadata": {},
   "outputs": [
    {
     "data": {
      "text/html": [
       "<div>\n",
       "<style scoped>\n",
       "    .dataframe tbody tr th:only-of-type {\n",
       "        vertical-align: middle;\n",
       "    }\n",
       "\n",
       "    .dataframe tbody tr th {\n",
       "        vertical-align: top;\n",
       "    }\n",
       "\n",
       "    .dataframe thead th {\n",
       "        text-align: right;\n",
       "    }\n",
       "</style>\n",
       "<table border=\"1\" class=\"dataframe\">\n",
       "  <thead>\n",
       "    <tr style=\"text-align: right;\">\n",
       "      <th></th>\n",
       "      <th>course</th>\n",
       "      <th>section</th>\n",
       "      <th>question</th>\n",
       "      <th>text</th>\n",
       "    </tr>\n",
       "  </thead>\n",
       "  <tbody>\n",
       "    <tr>\n",
       "      <th>3</th>\n",
       "      <td>data-engineering-zoomcamp</td>\n",
       "      <td>General course-related questions</td>\n",
       "      <td>Course - I have registered for the Data Engine...</td>\n",
       "      <td>You don't need it. You're accepted. You can al...</td>\n",
       "    </tr>\n",
       "    <tr>\n",
       "      <th>411</th>\n",
       "      <td>data-engineering-zoomcamp</td>\n",
       "      <td>Workshop 1 - dlthub</td>\n",
       "      <td>Edit Course Profile.</td>\n",
       "      <td>The display name listed on the leaderboard is ...</td>\n",
       "    </tr>\n",
       "    <tr>\n",
       "      <th>10</th>\n",
       "      <td>data-engineering-zoomcamp</td>\n",
       "      <td>General course-related questions</td>\n",
       "      <td>Course - ​​How many hours per week am I expect...</td>\n",
       "      <td>It depends on your background and previous exp...</td>\n",
       "    </tr>\n",
       "    <tr>\n",
       "      <th>9</th>\n",
       "      <td>data-engineering-zoomcamp</td>\n",
       "      <td>General course-related questions</td>\n",
       "      <td>Course - Which playlist on YouTube should I re...</td>\n",
       "      <td>All the main videos are stored in the Main “DA...</td>\n",
       "    </tr>\n",
       "    <tr>\n",
       "      <th>5</th>\n",
       "      <td>data-engineering-zoomcamp</td>\n",
       "      <td>General course-related questions</td>\n",
       "      <td>Course - how many Zoomcamps in a year?</td>\n",
       "      <td>There are 3 Zoom Camps in a year, as of 2024. ...</td>\n",
       "    </tr>\n",
       "    <tr>\n",
       "      <th>4</th>\n",
       "      <td>data-engineering-zoomcamp</td>\n",
       "      <td>General course-related questions</td>\n",
       "      <td>Course - What can I do before the course starts?</td>\n",
       "      <td>You can start by installing and setting up all...</td>\n",
       "    </tr>\n",
       "    <tr>\n",
       "      <th>34</th>\n",
       "      <td>data-engineering-zoomcamp</td>\n",
       "      <td>General course-related questions</td>\n",
       "      <td>How can we contribute to the course?</td>\n",
       "      <td>Star the repo! Share it with friends if you fi...</td>\n",
       "    </tr>\n",
       "    <tr>\n",
       "      <th>1</th>\n",
       "      <td>data-engineering-zoomcamp</td>\n",
       "      <td>General course-related questions</td>\n",
       "      <td>Course - What are the prerequisites for this c...</td>\n",
       "      <td>GitHub - DataTalksClub data-engineering-zoomca...</td>\n",
       "    </tr>\n",
       "    <tr>\n",
       "      <th>0</th>\n",
       "      <td>data-engineering-zoomcamp</td>\n",
       "      <td>General course-related questions</td>\n",
       "      <td>Course - When will the course start?</td>\n",
       "      <td>The purpose of this document is to capture fre...</td>\n",
       "    </tr>\n",
       "    <tr>\n",
       "      <th>7</th>\n",
       "      <td>data-engineering-zoomcamp</td>\n",
       "      <td>General course-related questions</td>\n",
       "      <td>Course - Can I follow the course after it fini...</td>\n",
       "      <td>Yes, we will keep all the materials after the ...</td>\n",
       "    </tr>\n",
       "  </tbody>\n",
       "</table>\n",
       "</div>"
      ],
      "text/plain": [
       "                        course                           section  \\\n",
       "3    data-engineering-zoomcamp  General course-related questions   \n",
       "411  data-engineering-zoomcamp               Workshop 1 - dlthub   \n",
       "10   data-engineering-zoomcamp  General course-related questions   \n",
       "9    data-engineering-zoomcamp  General course-related questions   \n",
       "5    data-engineering-zoomcamp  General course-related questions   \n",
       "4    data-engineering-zoomcamp  General course-related questions   \n",
       "34   data-engineering-zoomcamp  General course-related questions   \n",
       "1    data-engineering-zoomcamp  General course-related questions   \n",
       "0    data-engineering-zoomcamp  General course-related questions   \n",
       "7    data-engineering-zoomcamp  General course-related questions   \n",
       "\n",
       "                                              question  \\\n",
       "3    Course - I have registered for the Data Engine...   \n",
       "411                               Edit Course Profile.   \n",
       "10   Course - ​​How many hours per week am I expect...   \n",
       "9    Course - Which playlist on YouTube should I re...   \n",
       "5               Course - how many Zoomcamps in a year?   \n",
       "4     Course - What can I do before the course starts?   \n",
       "34                How can we contribute to the course?   \n",
       "1    Course - What are the prerequisites for this c...   \n",
       "0                 Course - When will the course start?   \n",
       "7    Course - Can I follow the course after it fini...   \n",
       "\n",
       "                                                  text  \n",
       "3    You don't need it. You're accepted. You can al...  \n",
       "411  The display name listed on the leaderboard is ...  \n",
       "10   It depends on your background and previous exp...  \n",
       "9    All the main videos are stored in the Main “DA...  \n",
       "5    There are 3 Zoom Camps in a year, as of 2024. ...  \n",
       "4    You can start by installing and setting up all...  \n",
       "34   Star the repo! Share it with friends if you fi...  \n",
       "1    GitHub - DataTalksClub data-engineering-zoomca...  \n",
       "0    The purpose of this document is to capture fre...  \n",
       "7    Yes, we will keep all the materials after the ...  "
      ]
     },
     "execution_count": 23,
     "metadata": {},
     "output_type": "execute_result"
    }
   ],
   "source": [
    "df.iloc[idx]"
   ]
  },
  {
   "cell_type": "code",
   "execution_count": null,
   "id": "297dcd46-8ee6-4adb-a617-552c3d661121",
   "metadata": {},
   "outputs": [],
   "source": []
  }
 ],
 "metadata": {
  "kernelspec": {
   "display_name": "Python 3 (ipykernel)",
   "language": "python",
   "name": "python3"
  },
  "language_info": {
   "codemirror_mode": {
    "name": "ipython",
    "version": 3
   },
   "file_extension": ".py",
   "mimetype": "text/x-python",
   "name": "python",
   "nbconvert_exporter": "python",
   "pygments_lexer": "ipython3",
   "version": "3.12.1"
  }
 },
 "nbformat": 4,
 "nbformat_minor": 5
}
